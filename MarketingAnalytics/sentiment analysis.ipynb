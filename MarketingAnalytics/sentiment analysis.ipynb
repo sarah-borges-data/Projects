{
 "cells": [
  {
   "cell_type": "code",
   "execution_count": 1,
   "id": "5239d086",
   "metadata": {},
   "outputs": [],
   "source": [
    "#installing libraries\n",
    "import pandas as pd\n",
    "import pyodbc\n",
    "import nltk\n",
    "from nltk.sentiment.vader import SentimentIntensityAnalyzer"
   ]
  },
  {
   "cell_type": "code",
   "execution_count": 2,
   "id": "3b22ed3e",
   "metadata": {},
   "outputs": [
    {
     "name": "stderr",
     "output_type": "stream",
     "text": [
      "[nltk_data] Downloading package vader_lexicon to\n",
      "[nltk_data]     C:\\Users\\sarah\\AppData\\Roaming\\nltk_data...\n"
     ]
    },
    {
     "data": {
      "text/plain": [
       "True"
      ]
     },
     "execution_count": 2,
     "metadata": {},
     "output_type": "execute_result"
    }
   ],
   "source": [
    "#dowloading vader lexicon\n",
    "nltk.download('vader_lexicon')"
   ]
  },
  {
   "cell_type": "code",
   "execution_count": 6,
   "id": "89d2312e",
   "metadata": {},
   "outputs": [],
   "source": [
    "#creating a functios to fetch data from a sql database\n",
    "def fetch_data_from_sql():\n",
    "    conn_str =(\n",
    "        \"Driver={SQL Server};\"\n",
    "        \"Server=SARAH\\\\SQLEXPRESS;\"\n",
    "        \"Database=PortfolioProject_MarketingAnalytics;\"\n",
    "        \"Trusted_Connection=yes;\"\n",
    "    )\n",
    "    conn = pyodbc.connect(conn_str)\n",
    "\n",
    "    querry = \"SELECT ReviewID, CustomerID, ProductID, ReviewDate, Rating, ReviewText FROM dbo.customer_reviews\"\n",
    "\n",
    "    df = pd.read_sql(querry, conn)\n",
    "\n",
    "    conn.close()\n",
    "    return df\n"
   ]
  },
  {
   "cell_type": "code",
   "execution_count": 7,
   "id": "daed48fa",
   "metadata": {},
   "outputs": [
    {
     "name": "stderr",
     "output_type": "stream",
     "text": [
      "C:\\Users\\sarah\\AppData\\Local\\Temp\\ipykernel_19392\\1946123401.py:13: UserWarning: pandas only supports SQLAlchemy connectable (engine/connection) or database string URI or sqlite3 DBAPI2 connection. Other DBAPI2 objects are not tested. Please consider using SQLAlchemy.\n",
      "  df = pd.read_sql(querry, conn)\n"
     ]
    }
   ],
   "source": [
    "customer_reviews_df = fetch_data_from_sql()"
   ]
  },
  {
   "cell_type": "code",
   "execution_count": 8,
   "id": "36c80d27",
   "metadata": {},
   "outputs": [
    {
     "data": {
      "text/html": [
       "<div>\n",
       "<style scoped>\n",
       "    .dataframe tbody tr th:only-of-type {\n",
       "        vertical-align: middle;\n",
       "    }\n",
       "\n",
       "    .dataframe tbody tr th {\n",
       "        vertical-align: top;\n",
       "    }\n",
       "\n",
       "    .dataframe thead th {\n",
       "        text-align: right;\n",
       "    }\n",
       "</style>\n",
       "<table border=\"1\" class=\"dataframe\">\n",
       "  <thead>\n",
       "    <tr style=\"text-align: right;\">\n",
       "      <th></th>\n",
       "      <th>ReviewID</th>\n",
       "      <th>CustomerID</th>\n",
       "      <th>ProductID</th>\n",
       "      <th>ReviewDate</th>\n",
       "      <th>Rating</th>\n",
       "      <th>ReviewText</th>\n",
       "    </tr>\n",
       "  </thead>\n",
       "  <tbody>\n",
       "    <tr>\n",
       "      <th>0</th>\n",
       "      <td>1</td>\n",
       "      <td>77</td>\n",
       "      <td>18</td>\n",
       "      <td>2023-12-23</td>\n",
       "      <td>3</td>\n",
       "      <td>Average  experience,  nothing  special.</td>\n",
       "    </tr>\n",
       "    <tr>\n",
       "      <th>1</th>\n",
       "      <td>2</td>\n",
       "      <td>80</td>\n",
       "      <td>19</td>\n",
       "      <td>2024-12-25</td>\n",
       "      <td>5</td>\n",
       "      <td>The  quality  is    top-notch.</td>\n",
       "    </tr>\n",
       "    <tr>\n",
       "      <th>2</th>\n",
       "      <td>3</td>\n",
       "      <td>50</td>\n",
       "      <td>13</td>\n",
       "      <td>2025-01-26</td>\n",
       "      <td>4</td>\n",
       "      <td>Five  stars  for  the  quick  delivery.</td>\n",
       "    </tr>\n",
       "    <tr>\n",
       "      <th>3</th>\n",
       "      <td>4</td>\n",
       "      <td>78</td>\n",
       "      <td>15</td>\n",
       "      <td>2025-04-21</td>\n",
       "      <td>3</td>\n",
       "      <td>Good  quality,  but  could  be  cheaper.</td>\n",
       "    </tr>\n",
       "    <tr>\n",
       "      <th>4</th>\n",
       "      <td>5</td>\n",
       "      <td>64</td>\n",
       "      <td>2</td>\n",
       "      <td>2023-07-16</td>\n",
       "      <td>3</td>\n",
       "      <td>Average  experience,  nothing  special.</td>\n",
       "    </tr>\n",
       "    <tr>\n",
       "      <th>...</th>\n",
       "      <td>...</td>\n",
       "      <td>...</td>\n",
       "      <td>...</td>\n",
       "      <td>...</td>\n",
       "      <td>...</td>\n",
       "      <td>...</td>\n",
       "    </tr>\n",
       "    <tr>\n",
       "      <th>1358</th>\n",
       "      <td>1359</td>\n",
       "      <td>28</td>\n",
       "      <td>4</td>\n",
       "      <td>2023-05-25</td>\n",
       "      <td>3</td>\n",
       "      <td>Not  worth  the  money.</td>\n",
       "    </tr>\n",
       "    <tr>\n",
       "      <th>1359</th>\n",
       "      <td>1360</td>\n",
       "      <td>58</td>\n",
       "      <td>12</td>\n",
       "      <td>2023-11-13</td>\n",
       "      <td>2</td>\n",
       "      <td>Average    experience,  nothing  special.</td>\n",
       "    </tr>\n",
       "    <tr>\n",
       "      <th>1360</th>\n",
       "      <td>1361</td>\n",
       "      <td>96</td>\n",
       "      <td>15</td>\n",
       "      <td>2023-03-07</td>\n",
       "      <td>5</td>\n",
       "      <td>Customer  support  was  very  helpful.</td>\n",
       "    </tr>\n",
       "    <tr>\n",
       "      <th>1361</th>\n",
       "      <td>1362</td>\n",
       "      <td>99</td>\n",
       "      <td>2</td>\n",
       "      <td>2025-12-03</td>\n",
       "      <td>1</td>\n",
       "      <td>Product  did  not  meet  my  expectations.</td>\n",
       "    </tr>\n",
       "    <tr>\n",
       "      <th>1362</th>\n",
       "      <td>1363</td>\n",
       "      <td>16</td>\n",
       "      <td>4</td>\n",
       "      <td>2024-07-16</td>\n",
       "      <td>2</td>\n",
       "      <td>The  product  arrived  late.</td>\n",
       "    </tr>\n",
       "  </tbody>\n",
       "</table>\n",
       "<p>1363 rows × 6 columns</p>\n",
       "</div>"
      ],
      "text/plain": [
       "      ReviewID  CustomerID  ProductID  ReviewDate  Rating  \\\n",
       "0            1          77         18  2023-12-23       3   \n",
       "1            2          80         19  2024-12-25       5   \n",
       "2            3          50         13  2025-01-26       4   \n",
       "3            4          78         15  2025-04-21       3   \n",
       "4            5          64          2  2023-07-16       3   \n",
       "...        ...         ...        ...         ...     ...   \n",
       "1358      1359          28          4  2023-05-25       3   \n",
       "1359      1360          58         12  2023-11-13       2   \n",
       "1360      1361          96         15  2023-03-07       5   \n",
       "1361      1362          99          2  2025-12-03       1   \n",
       "1362      1363          16          4  2024-07-16       2   \n",
       "\n",
       "                                      ReviewText  \n",
       "0        Average  experience,  nothing  special.  \n",
       "1                 The  quality  is    top-notch.  \n",
       "2        Five  stars  for  the  quick  delivery.  \n",
       "3       Good  quality,  but  could  be  cheaper.  \n",
       "4        Average  experience,  nothing  special.  \n",
       "...                                          ...  \n",
       "1358                     Not  worth  the  money.  \n",
       "1359   Average    experience,  nothing  special.  \n",
       "1360      Customer  support  was  very  helpful.  \n",
       "1361  Product  did  not  meet  my  expectations.  \n",
       "1362                The  product  arrived  late.  \n",
       "\n",
       "[1363 rows x 6 columns]"
      ]
     },
     "execution_count": 8,
     "metadata": {},
     "output_type": "execute_result"
    }
   ],
   "source": [
    "customer_reviews_df"
   ]
  },
  {
   "cell_type": "code",
   "execution_count": 9,
   "id": "a55f51fb",
   "metadata": {},
   "outputs": [],
   "source": [
    "#initializing the vader sentiment analyzer\n",
    "sia = SentimentIntensityAnalyzer()"
   ]
  },
  {
   "cell_type": "code",
   "execution_count": 10,
   "id": "f2c536f7",
   "metadata": {},
   "outputs": [],
   "source": [
    "#defining a function to calculate the sentiment analyzes\n",
    "def calculate_sentiment(review):\n",
    "    sentiment = sia.polarity_scores(review)\n",
    "    #return the compound score: -1 (most negative) and 1 (most positive)\n",
    "    return sentiment['compound']"
   ]
  },
  {
   "cell_type": "code",
   "execution_count": 11,
   "id": "eec7e0fc",
   "metadata": {},
   "outputs": [],
   "source": [
    "#defining a function to categorize sentiment using both the sentiment score and the review rating\n",
    "def categorize_sentiment(score, rating):\n",
    "    if score > 0.05: #Positive sentiment score\n",
    "        if rating >= 4:\n",
    "            return 'Positive' #high rating and Positive sentiment\n",
    "        elif rating == 3:\n",
    "            return 'Mixed Positive' #Neutral rating but positive sentiment\n",
    "        else:\n",
    "            return 'Mixed Negative' #Low rating but positive sentiment\n",
    "    elif score < -0.05: #Negative sentiment score\n",
    "        if rating <= 2:\n",
    "            return 'Negative' # low rating and negative sentiment\n",
    "        elif rating == 3: \n",
    "            return 'Mixed Negative' #Neutral rating but positive sentiment\n",
    "        else:\n",
    "            return 'Mixed Positive' # high rating but negative sentiment\n",
    "    else: #neutral sentiment score\n",
    "        if rating >= 4:\n",
    "            return 'Positive' #high rating with neutral sentiment\n",
    "        elif rating <= 2:\n",
    "            return 'Negative' #Low rating with neutral sentiment\n",
    "        else:\n",
    "            return 'Neutral' #neutral rating and neutral sentiment\n",
    "\n"
   ]
  },
  {
   "cell_type": "code",
   "execution_count": 12,
   "id": "049767be",
   "metadata": {},
   "outputs": [],
   "source": [
    "#creating a function to bucket sentiment scores into text ranges\n",
    "\n",
    "def sentiment_bucket(score):\n",
    "    if score >= 0.5:\n",
    "        return '0.5 to 1.0' #strong positive sentiment\n",
    "    elif 0.0 <= score < 0.5:\n",
    "        return '0.0 to 0.49' #mid positive sentiment\n",
    "    elif -0.5 <= score < 0.0:\n",
    "        return '-0.49 to 0.0' # mid negative sentiment\n",
    "    else:\n",
    "        return '-1.0 to -0.5' #strong negative sentiment"
   ]
  },
  {
   "cell_type": "code",
   "execution_count": 13,
   "id": "48efecef",
   "metadata": {},
   "outputs": [],
   "source": [
    "#applying the sentiment analysis to calculate sentiment scores for each review\n",
    "customer_reviews_df['SentimentScore'] = customer_reviews_df['ReviewText'].apply(calculate_sentiment)"
   ]
  },
  {
   "cell_type": "code",
   "execution_count": 14,
   "id": "8d898ca1",
   "metadata": {},
   "outputs": [],
   "source": [
    "#applying the sentiment categorization using text and rating\n",
    "customer_reviews_df['SentimentCategory'] = customer_reviews_df.apply(\n",
    "    lambda row: categorize_sentiment(row['SentimentScore'], row['Rating']), axis=1\n",
    ")"
   ]
  },
  {
   "cell_type": "code",
   "execution_count": 15,
   "id": "ad0395b3",
   "metadata": {},
   "outputs": [],
   "source": [
    "#applying sentiment bucketing to categorize scores into defined ranges\n",
    "customer_reviews_df['SentimentBucket'] = customer_reviews_df['SentimentScore'].apply(sentiment_bucket)"
   ]
  },
  {
   "cell_type": "code",
   "execution_count": 16,
   "id": "58aee7cc",
   "metadata": {},
   "outputs": [
    {
     "name": "stdout",
     "output_type": "stream",
     "text": [
      "   ReviewID  CustomerID  ProductID  ReviewDate  Rating  \\\n",
      "0         1          77         18  2023-12-23       3   \n",
      "1         2          80         19  2024-12-25       5   \n",
      "2         3          50         13  2025-01-26       4   \n",
      "3         4          78         15  2025-04-21       3   \n",
      "4         5          64          2  2023-07-16       3   \n",
      "\n",
      "                                 ReviewText  SentimentScore SentimentCategory  \\\n",
      "0   Average  experience,  nothing  special.         -0.3089    Mixed Negative   \n",
      "1            The  quality  is    top-notch.          0.0000          Positive   \n",
      "2   Five  stars  for  the  quick  delivery.          0.0000          Positive   \n",
      "3  Good  quality,  but  could  be  cheaper.          0.2382    Mixed Positive   \n",
      "4   Average  experience,  nothing  special.         -0.3089    Mixed Negative   \n",
      "\n",
      "  SentimentBucket  \n",
      "0    -0.49 to 0.0  \n",
      "1     0.0 to 0.49  \n",
      "2     0.0 to 0.49  \n",
      "3     0.0 to 0.49  \n",
      "4    -0.49 to 0.0  \n"
     ]
    }
   ],
   "source": [
    "print(customer_reviews_df.head())"
   ]
  },
  {
   "cell_type": "code",
   "execution_count": 18,
   "id": "3410149e",
   "metadata": {},
   "outputs": [],
   "source": [
    "#Saving the dataframe\n",
    "customer_reviews_df.to_csv('customer_reviews_with_sentiment.csv', index= False)"
   ]
  }
 ],
 "metadata": {
  "kernelspec": {
   "display_name": "base",
   "language": "python",
   "name": "python3"
  },
  "language_info": {
   "codemirror_mode": {
    "name": "ipython",
    "version": 3
   },
   "file_extension": ".py",
   "mimetype": "text/x-python",
   "name": "python",
   "nbconvert_exporter": "python",
   "pygments_lexer": "ipython3",
   "version": "3.12.7"
  }
 },
 "nbformat": 4,
 "nbformat_minor": 5
}
